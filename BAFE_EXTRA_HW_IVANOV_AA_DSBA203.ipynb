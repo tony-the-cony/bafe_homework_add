{
 "cells": [
  {
   "cell_type": "code",
   "execution_count": 89,
   "metadata": {},
   "outputs": [],
   "source": [
    "import pandas as pd\n",
    "from math import log\n",
    "import seaborn as sns\n",
    "import matplotlib.pyplot as plt\n",
    "import numpy as np"
   ]
  },
  {
   "cell_type": "markdown",
   "metadata": {},
   "source": [
    "## 1) Данные"
   ]
  },
  {
   "cell_type": "code",
   "execution_count": 168,
   "metadata": {
    "scrolled": true
   },
   "outputs": [],
   "source": [
    "df_nasdaq_d = pd.read_csv('^IXIC_Daily.csv')\n",
    "df_nasdaq_w = pd.read_csv('^IXIC_Weekly.csv')\n",
    "df_nasdaq_m = pd.read_csv('^IXIC_Monthly.csv')\n",
    "\n",
    "df_brent_d = pd.read_csv('BZ=F_Daily.csv', delimiter=';')\n",
    "df_brent_w = pd.read_csv('BZ=F_Weekly.csv', delimiter=';')\n",
    "df_brent_m = pd.read_csv('BZ=F_Monthly.csv', delimiter=';')\n",
    "\n",
    "df_nike_d = pd.read_csv('NKE_Daily.csv')\n",
    "df_nike_w = pd.read_csv('NKE_Weekly.csv')\n",
    "df_nike_m = pd.read_csv('NKE_Monthly.csv')\n",
    "\n",
    "#df_nasdaq_d.drop(columns='Date').astype('float').dtypes\n",
    "#df_nasdaq_w.drop(columns='Date').astype('float').dtypes\n",
    "#df_nasdaq_m.drop(columns='Date').astype('float').dtypes\n",
    "\n",
    "df_brent_d = df_brent_d[df_brent_d.Open != '-']  # brent data is a little (a lot lol) messy because I had to add it manually\n",
    "df_brent_d.Volume = df_brent_d.Volume.apply(lambda x: x.replace(',', ''))\n",
    "df_brent_d.iloc[:] = df_brent_d.iloc[::-1].values\n",
    "df_brent_d = df_brent_d.reindex(index=range(len(df_brent_d.index)))\n",
    "#df_brent_d.drop(columns='Date').astype('float').dtypes\n",
    "df_brent_w = df_brent_w[df_brent_w.Open != '-']\n",
    "df_brent_w.Volume = df_brent_w.Volume.apply(lambda x: x.replace(',', ''))\n",
    "df_brent_w.iloc[:] = df_brent_w.iloc[::-1].values\n",
    "df_brent_w = df_brent_w.reindex(index=range(len(df_brent_w.index)))\n",
    "#df_brent_w.drop(columns='Date').astype('float').dtypes\n",
    "df_brent_m = df_brent_m[df_brent_m.Open != '-']\n",
    "df_brent_m.Volume = df_brent_m.Volume.apply(lambda x: x.replace(',', ''))\n",
    "df_brent_m.iloc[:] = df_brent_m.iloc[::-1].values\n",
    "df_brent_m = df_brent_m.reindex(index=range(len(df_brent_m.index)))\n",
    "#df_brent_m.drop(columns='Date').astype('float').dtypes\n",
    "for col in df_brent_d.drop(columns='Date').columns:\n",
    "    df_brent_d[col] = df_brent_d[col].astype('float')\n",
    "\n",
    "#df_nike_d.drop(columns='Date').astype('float').dtypes\n",
    "#df_nike_w.drop(columns='Date').astype('float').dtypes\n",
    "#df_nike_m.drop(columns='Date').astype('float').dtypes\n"
   ]
  },
  {
   "cell_type": "markdown",
   "metadata": {},
   "source": [
    "## 2) Дневная доходность"
   ]
  },
  {
   "cell_type": "markdown",
   "metadata": {},
   "source": [
    "### a. pct_change"
   ]
  },
  {
   "cell_type": "code",
   "execution_count": 24,
   "metadata": {
    "scrolled": false
   },
   "outputs": [
    {
     "data": {
      "text/html": [
       "<div>\n",
       "<style scoped>\n",
       "    .dataframe tbody tr th:only-of-type {\n",
       "        vertical-align: middle;\n",
       "    }\n",
       "\n",
       "    .dataframe tbody tr th {\n",
       "        vertical-align: top;\n",
       "    }\n",
       "\n",
       "    .dataframe thead th {\n",
       "        text-align: right;\n",
       "    }\n",
       "</style>\n",
       "<table border=\"1\" class=\"dataframe\">\n",
       "  <thead>\n",
       "    <tr style=\"text-align: right;\">\n",
       "      <th></th>\n",
       "      <th>Open</th>\n",
       "      <th>High</th>\n",
       "      <th>Low</th>\n",
       "      <th>Close</th>\n",
       "      <th>Adj Close</th>\n",
       "      <th>Volume</th>\n",
       "    </tr>\n",
       "  </thead>\n",
       "  <tbody>\n",
       "    <tr>\n",
       "      <th>0</th>\n",
       "      <td>NaN</td>\n",
       "      <td>NaN</td>\n",
       "      <td>NaN</td>\n",
       "      <td>NaN</td>\n",
       "      <td>NaN</td>\n",
       "      <td>NaN</td>\n",
       "    </tr>\n",
       "    <tr>\n",
       "      <th>1</th>\n",
       "      <td>0.017470</td>\n",
       "      <td>0.007388</td>\n",
       "      <td>0.007737</td>\n",
       "      <td>-0.003612</td>\n",
       "      <td>-0.003612</td>\n",
       "      <td>-0.047602</td>\n",
       "    </tr>\n",
       "    <tr>\n",
       "      <th>2</th>\n",
       "      <td>-0.002507</td>\n",
       "      <td>-0.004169</td>\n",
       "      <td>-0.016651</td>\n",
       "      <td>-0.016508</td>\n",
       "      <td>-0.016508</td>\n",
       "      <td>0.098021</td>\n",
       "    </tr>\n",
       "    <tr>\n",
       "      <th>3</th>\n",
       "      <td>-0.017090</td>\n",
       "      <td>-0.012330</td>\n",
       "      <td>0.001454</td>\n",
       "      <td>0.003276</td>\n",
       "      <td>0.003276</td>\n",
       "      <td>0.009383</td>\n",
       "    </tr>\n",
       "    <tr>\n",
       "      <th>4</th>\n",
       "      <td>-0.000125</td>\n",
       "      <td>-0.001642</td>\n",
       "      <td>0.000423</td>\n",
       "      <td>-0.002761</td>\n",
       "      <td>-0.002761</td>\n",
       "      <td>-0.012174</td>\n",
       "    </tr>\n",
       "    <tr>\n",
       "      <th>...</th>\n",
       "      <td>...</td>\n",
       "      <td>...</td>\n",
       "      <td>...</td>\n",
       "      <td>...</td>\n",
       "      <td>...</td>\n",
       "      <td>...</td>\n",
       "    </tr>\n",
       "    <tr>\n",
       "      <th>541</th>\n",
       "      <td>0.004321</td>\n",
       "      <td>0.007188</td>\n",
       "      <td>0.002644</td>\n",
       "      <td>0.011265</td>\n",
       "      <td>0.011265</td>\n",
       "      <td>-0.014287</td>\n",
       "    </tr>\n",
       "    <tr>\n",
       "      <th>542</th>\n",
       "      <td>0.002437</td>\n",
       "      <td>0.001757</td>\n",
       "      <td>0.005466</td>\n",
       "      <td>-0.006982</td>\n",
       "      <td>-0.006982</td>\n",
       "      <td>0.012995</td>\n",
       "    </tr>\n",
       "    <tr>\n",
       "      <th>543</th>\n",
       "      <td>-0.002056</td>\n",
       "      <td>0.000536</td>\n",
       "      <td>-0.001313</td>\n",
       "      <td>0.012642</td>\n",
       "      <td>0.012642</td>\n",
       "      <td>0.113558</td>\n",
       "    </tr>\n",
       "    <tr>\n",
       "      <th>544</th>\n",
       "      <td>0.047874</td>\n",
       "      <td>0.038312</td>\n",
       "      <td>0.015997</td>\n",
       "      <td>0.010146</td>\n",
       "      <td>0.010146</td>\n",
       "      <td>0.268510</td>\n",
       "    </tr>\n",
       "    <tr>\n",
       "      <th>545</th>\n",
       "      <td>-0.025535</td>\n",
       "      <td>-0.018973</td>\n",
       "      <td>-0.008539</td>\n",
       "      <td>-0.007633</td>\n",
       "      <td>-0.007633</td>\n",
       "      <td>-0.104742</td>\n",
       "    </tr>\n",
       "  </tbody>\n",
       "</table>\n",
       "<p>546 rows × 6 columns</p>\n",
       "</div>"
      ],
      "text/plain": [
       "         Open      High       Low     Close  Adj Close    Volume\n",
       "0         NaN       NaN       NaN       NaN        NaN       NaN\n",
       "1    0.017470  0.007388  0.007737 -0.003612  -0.003612 -0.047602\n",
       "2   -0.002507 -0.004169 -0.016651 -0.016508  -0.016508  0.098021\n",
       "3   -0.017090 -0.012330  0.001454  0.003276   0.003276  0.009383\n",
       "4   -0.000125 -0.001642  0.000423 -0.002761  -0.002761 -0.012174\n",
       "..        ...       ...       ...       ...        ...       ...\n",
       "541  0.004321  0.007188  0.002644  0.011265   0.011265 -0.014287\n",
       "542  0.002437  0.001757  0.005466 -0.006982  -0.006982  0.012995\n",
       "543 -0.002056  0.000536 -0.001313  0.012642   0.012642  0.113558\n",
       "544  0.047874  0.038312  0.015997  0.010146   0.010146  0.268510\n",
       "545 -0.025535 -0.018973 -0.008539 -0.007633  -0.007633 -0.104742\n",
       "\n",
       "[546 rows x 6 columns]"
      ]
     },
     "execution_count": 24,
     "metadata": {},
     "output_type": "execute_result"
    }
   ],
   "source": [
    "df_nasdaq_d.drop(columns='Date').pct_change()"
   ]
  },
  {
   "cell_type": "code",
   "execution_count": 21,
   "metadata": {
    "scrolled": false
   },
   "outputs": [
    {
     "data": {
      "text/html": [
       "<div>\n",
       "<style scoped>\n",
       "    .dataframe tbody tr th:only-of-type {\n",
       "        vertical-align: middle;\n",
       "    }\n",
       "\n",
       "    .dataframe tbody tr th {\n",
       "        vertical-align: top;\n",
       "    }\n",
       "\n",
       "    .dataframe thead th {\n",
       "        text-align: right;\n",
       "    }\n",
       "</style>\n",
       "<table border=\"1\" class=\"dataframe\">\n",
       "  <thead>\n",
       "    <tr style=\"text-align: right;\">\n",
       "      <th></th>\n",
       "      <th>Open</th>\n",
       "      <th>High</th>\n",
       "      <th>Low</th>\n",
       "      <th>Close*</th>\n",
       "      <th>Adj Close**</th>\n",
       "      <th>Volume</th>\n",
       "    </tr>\n",
       "  </thead>\n",
       "  <tbody>\n",
       "    <tr>\n",
       "      <th>0</th>\n",
       "      <td>NaN</td>\n",
       "      <td>NaN</td>\n",
       "      <td>NaN</td>\n",
       "      <td>NaN</td>\n",
       "      <td>NaN</td>\n",
       "      <td>NaN</td>\n",
       "    </tr>\n",
       "    <tr>\n",
       "      <th>1</th>\n",
       "      <td>-0.008523</td>\n",
       "      <td>-0.009174</td>\n",
       "      <td>0.017084</td>\n",
       "      <td>-0.005329</td>\n",
       "      <td>-0.005329</td>\n",
       "      <td>-0.398192</td>\n",
       "    </tr>\n",
       "    <tr>\n",
       "      <th>2</th>\n",
       "      <td>-0.006970</td>\n",
       "      <td>0.000463</td>\n",
       "      <td>0.002366</td>\n",
       "      <td>-0.007221</td>\n",
       "      <td>-0.007221</td>\n",
       "      <td>0.087172</td>\n",
       "    </tr>\n",
       "    <tr>\n",
       "      <th>3</th>\n",
       "      <td>-0.007253</td>\n",
       "      <td>0.002082</td>\n",
       "      <td>-0.004248</td>\n",
       "      <td>0.012670</td>\n",
       "      <td>0.012670</td>\n",
       "      <td>0.206054</td>\n",
       "    </tr>\n",
       "    <tr>\n",
       "      <th>4</th>\n",
       "      <td>0.009192</td>\n",
       "      <td>-0.006234</td>\n",
       "      <td>-0.017303</td>\n",
       "      <td>-0.033133</td>\n",
       "      <td>-0.033133</td>\n",
       "      <td>0.000126</td>\n",
       "    </tr>\n",
       "    <tr>\n",
       "      <th>...</th>\n",
       "      <td>...</td>\n",
       "      <td>...</td>\n",
       "      <td>...</td>\n",
       "      <td>...</td>\n",
       "      <td>...</td>\n",
       "      <td>...</td>\n",
       "    </tr>\n",
       "    <tr>\n",
       "      <th>541</th>\n",
       "      <td>0.015183</td>\n",
       "      <td>-0.002093</td>\n",
       "      <td>0.016060</td>\n",
       "      <td>0.028905</td>\n",
       "      <td>0.028905</td>\n",
       "      <td>-0.805369</td>\n",
       "    </tr>\n",
       "    <tr>\n",
       "      <th>542</th>\n",
       "      <td>0.036133</td>\n",
       "      <td>0.041832</td>\n",
       "      <td>0.032810</td>\n",
       "      <td>0.016973</td>\n",
       "      <td>0.016973</td>\n",
       "      <td>8.752425</td>\n",
       "    </tr>\n",
       "    <tr>\n",
       "      <th>543</th>\n",
       "      <td>0.006120</td>\n",
       "      <td>-0.017000</td>\n",
       "      <td>-0.012290</td>\n",
       "      <td>-0.015078</td>\n",
       "      <td>-0.015078</td>\n",
       "      <td>0.018985</td>\n",
       "    </tr>\n",
       "    <tr>\n",
       "      <th>544</th>\n",
       "      <td>-0.018478</td>\n",
       "      <td>0.006144</td>\n",
       "      <td>-0.031107</td>\n",
       "      <td>-0.033774</td>\n",
       "      <td>-0.033774</td>\n",
       "      <td>0.062686</td>\n",
       "    </tr>\n",
       "    <tr>\n",
       "      <th>545</th>\n",
       "      <td>-0.028414</td>\n",
       "      <td>-0.053828</td>\n",
       "      <td>-0.046402</td>\n",
       "      <td>-0.040276</td>\n",
       "      <td>-0.040276</td>\n",
       "      <td>-0.893446</td>\n",
       "    </tr>\n",
       "  </tbody>\n",
       "</table>\n",
       "<p>546 rows × 6 columns</p>\n",
       "</div>"
      ],
      "text/plain": [
       "         Open      High       Low    Close*  Adj Close**    Volume\n",
       "0         NaN       NaN       NaN       NaN          NaN       NaN\n",
       "1   -0.008523 -0.009174  0.017084 -0.005329    -0.005329 -0.398192\n",
       "2   -0.006970  0.000463  0.002366 -0.007221    -0.007221  0.087172\n",
       "3   -0.007253  0.002082 -0.004248  0.012670     0.012670  0.206054\n",
       "4    0.009192 -0.006234 -0.017303 -0.033133    -0.033133  0.000126\n",
       "..        ...       ...       ...       ...          ...       ...\n",
       "541  0.015183 -0.002093  0.016060  0.028905     0.028905 -0.805369\n",
       "542  0.036133  0.041832  0.032810  0.016973     0.016973  8.752425\n",
       "543  0.006120 -0.017000 -0.012290 -0.015078    -0.015078  0.018985\n",
       "544 -0.018478  0.006144 -0.031107 -0.033774    -0.033774  0.062686\n",
       "545 -0.028414 -0.053828 -0.046402 -0.040276    -0.040276 -0.893446\n",
       "\n",
       "[546 rows x 6 columns]"
      ]
     },
     "execution_count": 21,
     "metadata": {},
     "output_type": "execute_result"
    }
   ],
   "source": [
    "df_brent_d.drop(columns='Date').pct_change()"
   ]
  },
  {
   "cell_type": "code",
   "execution_count": 26,
   "metadata": {
    "scrolled": false
   },
   "outputs": [
    {
     "data": {
      "text/html": [
       "<div>\n",
       "<style scoped>\n",
       "    .dataframe tbody tr th:only-of-type {\n",
       "        vertical-align: middle;\n",
       "    }\n",
       "\n",
       "    .dataframe tbody tr th {\n",
       "        vertical-align: top;\n",
       "    }\n",
       "\n",
       "    .dataframe thead th {\n",
       "        text-align: right;\n",
       "    }\n",
       "</style>\n",
       "<table border=\"1\" class=\"dataframe\">\n",
       "  <thead>\n",
       "    <tr style=\"text-align: right;\">\n",
       "      <th></th>\n",
       "      <th>Open</th>\n",
       "      <th>High</th>\n",
       "      <th>Low</th>\n",
       "      <th>Close</th>\n",
       "      <th>Adj Close</th>\n",
       "      <th>Volume</th>\n",
       "    </tr>\n",
       "  </thead>\n",
       "  <tbody>\n",
       "    <tr>\n",
       "      <th>0</th>\n",
       "      <td>NaN</td>\n",
       "      <td>NaN</td>\n",
       "      <td>NaN</td>\n",
       "      <td>NaN</td>\n",
       "      <td>NaN</td>\n",
       "      <td>NaN</td>\n",
       "    </tr>\n",
       "    <tr>\n",
       "      <th>1</th>\n",
       "      <td>0.023956</td>\n",
       "      <td>0.008443</td>\n",
       "      <td>0.011419</td>\n",
       "      <td>-0.007752</td>\n",
       "      <td>-0.007752</td>\n",
       "      <td>0.419071</td>\n",
       "    </tr>\n",
       "    <tr>\n",
       "      <th>2</th>\n",
       "      <td>-0.003166</td>\n",
       "      <td>-0.003149</td>\n",
       "      <td>-0.003920</td>\n",
       "      <td>-0.004453</td>\n",
       "      <td>-0.004453</td>\n",
       "      <td>-0.141426</td>\n",
       "    </tr>\n",
       "    <tr>\n",
       "      <th>3</th>\n",
       "      <td>-0.008521</td>\n",
       "      <td>0.000925</td>\n",
       "      <td>0.005273</td>\n",
       "      <td>0.008318</td>\n",
       "      <td>0.008318</td>\n",
       "      <td>-0.263835</td>\n",
       "    </tr>\n",
       "    <tr>\n",
       "      <th>4</th>\n",
       "      <td>0.003906</td>\n",
       "      <td>0.011393</td>\n",
       "      <td>0.005716</td>\n",
       "      <td>0.007316</td>\n",
       "      <td>0.007316</td>\n",
       "      <td>0.294036</td>\n",
       "    </tr>\n",
       "    <tr>\n",
       "      <th>...</th>\n",
       "      <td>...</td>\n",
       "      <td>...</td>\n",
       "      <td>...</td>\n",
       "      <td>...</td>\n",
       "      <td>...</td>\n",
       "      <td>...</td>\n",
       "    </tr>\n",
       "    <tr>\n",
       "      <th>541</th>\n",
       "      <td>0.011927</td>\n",
       "      <td>0.021719</td>\n",
       "      <td>0.013077</td>\n",
       "      <td>0.027970</td>\n",
       "      <td>0.027970</td>\n",
       "      <td>0.076728</td>\n",
       "    </tr>\n",
       "    <tr>\n",
       "      <th>542</th>\n",
       "      <td>0.014917</td>\n",
       "      <td>-0.000987</td>\n",
       "      <td>0.007376</td>\n",
       "      <td>-0.017421</td>\n",
       "      <td>-0.017421</td>\n",
       "      <td>-0.083904</td>\n",
       "    </tr>\n",
       "    <tr>\n",
       "      <th>543</th>\n",
       "      <td>-0.001089</td>\n",
       "      <td>0.007093</td>\n",
       "      <td>0.004119</td>\n",
       "      <td>0.024219</td>\n",
       "      <td>0.024219</td>\n",
       "      <td>0.132694</td>\n",
       "    </tr>\n",
       "    <tr>\n",
       "      <th>544</th>\n",
       "      <td>0.050045</td>\n",
       "      <td>0.038156</td>\n",
       "      <td>0.014037</td>\n",
       "      <td>0.006960</td>\n",
       "      <td>0.006960</td>\n",
       "      <td>0.346919</td>\n",
       "    </tr>\n",
       "    <tr>\n",
       "      <th>545</th>\n",
       "      <td>-0.016521</td>\n",
       "      <td>-0.020009</td>\n",
       "      <td>-0.009169</td>\n",
       "      <td>-0.012406</td>\n",
       "      <td>-0.012406</td>\n",
       "      <td>-0.130556</td>\n",
       "    </tr>\n",
       "  </tbody>\n",
       "</table>\n",
       "<p>546 rows × 6 columns</p>\n",
       "</div>"
      ],
      "text/plain": [
       "         Open      High       Low     Close  Adj Close    Volume\n",
       "0         NaN       NaN       NaN       NaN        NaN       NaN\n",
       "1    0.023956  0.008443  0.011419 -0.007752  -0.007752  0.419071\n",
       "2   -0.003166 -0.003149 -0.003920 -0.004453  -0.004453 -0.141426\n",
       "3   -0.008521  0.000925  0.005273  0.008318   0.008318 -0.263835\n",
       "4    0.003906  0.011393  0.005716  0.007316   0.007316  0.294036\n",
       "..        ...       ...       ...       ...        ...       ...\n",
       "541  0.011927  0.021719  0.013077  0.027970   0.027970  0.076728\n",
       "542  0.014917 -0.000987  0.007376 -0.017421  -0.017421 -0.083904\n",
       "543 -0.001089  0.007093  0.004119  0.024219   0.024219  0.132694\n",
       "544  0.050045  0.038156  0.014037  0.006960   0.006960  0.346919\n",
       "545 -0.016521 -0.020009 -0.009169 -0.012406  -0.012406 -0.130556\n",
       "\n",
       "[546 rows x 6 columns]"
      ]
     },
     "execution_count": 26,
     "metadata": {},
     "output_type": "execute_result"
    }
   ],
   "source": [
    "df_nike_d.drop(columns='Date').pct_change()"
   ]
  },
  {
   "cell_type": "markdown",
   "metadata": {},
   "source": [
    "### b. P(t)/P(t-1) – 1"
   ]
  },
  {
   "cell_type": "code",
   "execution_count": 157,
   "metadata": {
    "scrolled": false
   },
   "outputs": [
    {
     "data": {
      "text/html": [
       "<div>\n",
       "<style scoped>\n",
       "    .dataframe tbody tr th:only-of-type {\n",
       "        vertical-align: middle;\n",
       "    }\n",
       "\n",
       "    .dataframe tbody tr th {\n",
       "        vertical-align: top;\n",
       "    }\n",
       "\n",
       "    .dataframe thead th {\n",
       "        text-align: right;\n",
       "    }\n",
       "</style>\n",
       "<table border=\"1\" class=\"dataframe\">\n",
       "  <thead>\n",
       "    <tr style=\"text-align: right;\">\n",
       "      <th></th>\n",
       "      <th>Open</th>\n",
       "      <th>High</th>\n",
       "      <th>Low</th>\n",
       "      <th>Close</th>\n",
       "      <th>Adj Close</th>\n",
       "      <th>Volume</th>\n",
       "    </tr>\n",
       "  </thead>\n",
       "  <tbody>\n",
       "    <tr>\n",
       "      <th>0</th>\n",
       "      <td>0.017470</td>\n",
       "      <td>0.007388</td>\n",
       "      <td>0.007737</td>\n",
       "      <td>-0.003612</td>\n",
       "      <td>-0.003612</td>\n",
       "      <td>-0.047602</td>\n",
       "    </tr>\n",
       "    <tr>\n",
       "      <th>1</th>\n",
       "      <td>-0.002507</td>\n",
       "      <td>-0.004169</td>\n",
       "      <td>-0.016651</td>\n",
       "      <td>-0.016508</td>\n",
       "      <td>-0.016508</td>\n",
       "      <td>0.098021</td>\n",
       "    </tr>\n",
       "    <tr>\n",
       "      <th>2</th>\n",
       "      <td>-0.017090</td>\n",
       "      <td>-0.012330</td>\n",
       "      <td>0.001454</td>\n",
       "      <td>0.003276</td>\n",
       "      <td>0.003276</td>\n",
       "      <td>0.009383</td>\n",
       "    </tr>\n",
       "    <tr>\n",
       "      <th>3</th>\n",
       "      <td>-0.000125</td>\n",
       "      <td>-0.001642</td>\n",
       "      <td>0.000423</td>\n",
       "      <td>-0.002761</td>\n",
       "      <td>-0.002761</td>\n",
       "      <td>-0.012174</td>\n",
       "    </tr>\n",
       "    <tr>\n",
       "      <th>4</th>\n",
       "      <td>-0.000297</td>\n",
       "      <td>-0.005599</td>\n",
       "      <td>-0.009305</td>\n",
       "      <td>0.001856</td>\n",
       "      <td>0.001856</td>\n",
       "      <td>-0.009595</td>\n",
       "    </tr>\n",
       "    <tr>\n",
       "      <th>...</th>\n",
       "      <td>...</td>\n",
       "      <td>...</td>\n",
       "      <td>...</td>\n",
       "      <td>...</td>\n",
       "      <td>...</td>\n",
       "      <td>...</td>\n",
       "    </tr>\n",
       "    <tr>\n",
       "      <th>540</th>\n",
       "      <td>0.004321</td>\n",
       "      <td>0.007188</td>\n",
       "      <td>0.002644</td>\n",
       "      <td>0.011265</td>\n",
       "      <td>0.011265</td>\n",
       "      <td>-0.014287</td>\n",
       "    </tr>\n",
       "    <tr>\n",
       "      <th>541</th>\n",
       "      <td>0.002437</td>\n",
       "      <td>0.001757</td>\n",
       "      <td>0.005466</td>\n",
       "      <td>-0.006982</td>\n",
       "      <td>-0.006982</td>\n",
       "      <td>0.012995</td>\n",
       "    </tr>\n",
       "    <tr>\n",
       "      <th>542</th>\n",
       "      <td>-0.002056</td>\n",
       "      <td>0.000536</td>\n",
       "      <td>-0.001313</td>\n",
       "      <td>0.012642</td>\n",
       "      <td>0.012642</td>\n",
       "      <td>0.113558</td>\n",
       "    </tr>\n",
       "    <tr>\n",
       "      <th>543</th>\n",
       "      <td>0.047874</td>\n",
       "      <td>0.038312</td>\n",
       "      <td>0.015997</td>\n",
       "      <td>0.010146</td>\n",
       "      <td>0.010146</td>\n",
       "      <td>0.268510</td>\n",
       "    </tr>\n",
       "    <tr>\n",
       "      <th>544</th>\n",
       "      <td>-0.025535</td>\n",
       "      <td>-0.018973</td>\n",
       "      <td>-0.008539</td>\n",
       "      <td>-0.007633</td>\n",
       "      <td>-0.007633</td>\n",
       "      <td>-0.104742</td>\n",
       "    </tr>\n",
       "  </tbody>\n",
       "</table>\n",
       "<p>545 rows × 6 columns</p>\n",
       "</div>"
      ],
      "text/plain": [
       "         Open      High       Low     Close  Adj Close    Volume\n",
       "0    0.017470  0.007388  0.007737 -0.003612  -0.003612 -0.047602\n",
       "1   -0.002507 -0.004169 -0.016651 -0.016508  -0.016508  0.098021\n",
       "2   -0.017090 -0.012330  0.001454  0.003276   0.003276  0.009383\n",
       "3   -0.000125 -0.001642  0.000423 -0.002761  -0.002761 -0.012174\n",
       "4   -0.000297 -0.005599 -0.009305  0.001856   0.001856 -0.009595\n",
       "..        ...       ...       ...       ...        ...       ...\n",
       "540  0.004321  0.007188  0.002644  0.011265   0.011265 -0.014287\n",
       "541  0.002437  0.001757  0.005466 -0.006982  -0.006982  0.012995\n",
       "542 -0.002056  0.000536 -0.001313  0.012642   0.012642  0.113558\n",
       "543  0.047874  0.038312  0.015997  0.010146   0.010146  0.268510\n",
       "544 -0.025535 -0.018973 -0.008539 -0.007633  -0.007633 -0.104742\n",
       "\n",
       "[545 rows x 6 columns]"
      ]
     },
     "execution_count": 157,
     "metadata": {},
     "output_type": "execute_result"
    }
   ],
   "source": [
    "df_nasdaq_d_temp = pd.DataFrame()\n",
    "for col in df_nasdaq_d.drop(columns='Date').columns:\n",
    "    df_nasdaq_d_temp[col] = pd.Series([df_nasdaq_d[col].values[x]/df_nasdaq_d[col].values[x-1] - 1 for x in df_nasdaq_d.index[1:]])\n",
    "df_nasdaq_d_temp"
   ]
  },
  {
   "cell_type": "code",
   "execution_count": 132,
   "metadata": {
    "scrolled": false
   },
   "outputs": [
    {
     "data": {
      "text/html": [
       "<div>\n",
       "<style scoped>\n",
       "    .dataframe tbody tr th:only-of-type {\n",
       "        vertical-align: middle;\n",
       "    }\n",
       "\n",
       "    .dataframe tbody tr th {\n",
       "        vertical-align: top;\n",
       "    }\n",
       "\n",
       "    .dataframe thead th {\n",
       "        text-align: right;\n",
       "    }\n",
       "</style>\n",
       "<table border=\"1\" class=\"dataframe\">\n",
       "  <thead>\n",
       "    <tr style=\"text-align: right;\">\n",
       "      <th></th>\n",
       "      <th>Open</th>\n",
       "      <th>High</th>\n",
       "      <th>Low</th>\n",
       "      <th>Close*</th>\n",
       "      <th>Adj Close**</th>\n",
       "      <th>Volume</th>\n",
       "    </tr>\n",
       "  </thead>\n",
       "  <tbody>\n",
       "    <tr>\n",
       "      <th>0</th>\n",
       "      <td>-0.008523</td>\n",
       "      <td>-0.009174</td>\n",
       "      <td>0.017084</td>\n",
       "      <td>-0.005329</td>\n",
       "      <td>-0.005329</td>\n",
       "      <td>-0.398192</td>\n",
       "    </tr>\n",
       "    <tr>\n",
       "      <th>1</th>\n",
       "      <td>-0.006970</td>\n",
       "      <td>0.000463</td>\n",
       "      <td>0.002366</td>\n",
       "      <td>-0.007221</td>\n",
       "      <td>-0.007221</td>\n",
       "      <td>0.087172</td>\n",
       "    </tr>\n",
       "    <tr>\n",
       "      <th>2</th>\n",
       "      <td>-0.007253</td>\n",
       "      <td>0.002082</td>\n",
       "      <td>-0.004248</td>\n",
       "      <td>0.012670</td>\n",
       "      <td>0.012670</td>\n",
       "      <td>0.206054</td>\n",
       "    </tr>\n",
       "    <tr>\n",
       "      <th>3</th>\n",
       "      <td>0.009192</td>\n",
       "      <td>-0.006234</td>\n",
       "      <td>-0.017303</td>\n",
       "      <td>-0.033133</td>\n",
       "      <td>-0.033133</td>\n",
       "      <td>0.000126</td>\n",
       "    </tr>\n",
       "    <tr>\n",
       "      <th>4</th>\n",
       "      <td>-0.025689</td>\n",
       "      <td>-0.005809</td>\n",
       "      <td>0.000241</td>\n",
       "      <td>0.017493</td>\n",
       "      <td>0.017493</td>\n",
       "      <td>-0.903444</td>\n",
       "    </tr>\n",
       "    <tr>\n",
       "      <th>...</th>\n",
       "      <td>...</td>\n",
       "      <td>...</td>\n",
       "      <td>...</td>\n",
       "      <td>...</td>\n",
       "      <td>...</td>\n",
       "      <td>...</td>\n",
       "    </tr>\n",
       "    <tr>\n",
       "      <th>540</th>\n",
       "      <td>0.015183</td>\n",
       "      <td>-0.002093</td>\n",
       "      <td>0.016060</td>\n",
       "      <td>0.028905</td>\n",
       "      <td>0.028905</td>\n",
       "      <td>-0.805369</td>\n",
       "    </tr>\n",
       "    <tr>\n",
       "      <th>541</th>\n",
       "      <td>0.036133</td>\n",
       "      <td>0.041832</td>\n",
       "      <td>0.032810</td>\n",
       "      <td>0.016973</td>\n",
       "      <td>0.016973</td>\n",
       "      <td>8.752425</td>\n",
       "    </tr>\n",
       "    <tr>\n",
       "      <th>542</th>\n",
       "      <td>0.006120</td>\n",
       "      <td>-0.017000</td>\n",
       "      <td>-0.012290</td>\n",
       "      <td>-0.015078</td>\n",
       "      <td>-0.015078</td>\n",
       "      <td>0.018985</td>\n",
       "    </tr>\n",
       "    <tr>\n",
       "      <th>543</th>\n",
       "      <td>-0.018478</td>\n",
       "      <td>0.006144</td>\n",
       "      <td>-0.031107</td>\n",
       "      <td>-0.033774</td>\n",
       "      <td>-0.033774</td>\n",
       "      <td>0.062686</td>\n",
       "    </tr>\n",
       "    <tr>\n",
       "      <th>544</th>\n",
       "      <td>-0.028414</td>\n",
       "      <td>-0.053828</td>\n",
       "      <td>-0.046402</td>\n",
       "      <td>-0.040276</td>\n",
       "      <td>-0.040276</td>\n",
       "      <td>-0.893446</td>\n",
       "    </tr>\n",
       "  </tbody>\n",
       "</table>\n",
       "<p>533 rows × 6 columns</p>\n",
       "</div>"
      ],
      "text/plain": [
       "         Open      High       Low    Close*  Adj Close**    Volume\n",
       "0   -0.008523 -0.009174  0.017084 -0.005329    -0.005329 -0.398192\n",
       "1   -0.006970  0.000463  0.002366 -0.007221    -0.007221  0.087172\n",
       "2   -0.007253  0.002082 -0.004248  0.012670     0.012670  0.206054\n",
       "3    0.009192 -0.006234 -0.017303 -0.033133    -0.033133  0.000126\n",
       "4   -0.025689 -0.005809  0.000241  0.017493     0.017493 -0.903444\n",
       "..        ...       ...       ...       ...          ...       ...\n",
       "540  0.015183 -0.002093  0.016060  0.028905     0.028905 -0.805369\n",
       "541  0.036133  0.041832  0.032810  0.016973     0.016973  8.752425\n",
       "542  0.006120 -0.017000 -0.012290 -0.015078    -0.015078  0.018985\n",
       "543 -0.018478  0.006144 -0.031107 -0.033774    -0.033774  0.062686\n",
       "544 -0.028414 -0.053828 -0.046402 -0.040276    -0.040276 -0.893446\n",
       "\n",
       "[533 rows x 6 columns]"
      ]
     },
     "execution_count": 132,
     "metadata": {},
     "output_type": "execute_result"
    }
   ],
   "source": [
    "df_brent_d_temp = pd.DataFrame()\n",
    "for col in df_brent_d.drop(columns='Date').columns:\n",
    "    df_brent_d_temp[col] = pd.Series([df_brent_d[col].values[x]/df_brent_d[col].values[x-1] - 1 for x in df_brent_d.index[1:]]).dropna()\n",
    "df_brent_d_temp"
   ]
  },
  {
   "cell_type": "code",
   "execution_count": 162,
   "metadata": {
    "scrolled": false
   },
   "outputs": [
    {
     "data": {
      "text/html": [
       "<div>\n",
       "<style scoped>\n",
       "    .dataframe tbody tr th:only-of-type {\n",
       "        vertical-align: middle;\n",
       "    }\n",
       "\n",
       "    .dataframe tbody tr th {\n",
       "        vertical-align: top;\n",
       "    }\n",
       "\n",
       "    .dataframe thead th {\n",
       "        text-align: right;\n",
       "    }\n",
       "</style>\n",
       "<table border=\"1\" class=\"dataframe\">\n",
       "  <thead>\n",
       "    <tr style=\"text-align: right;\">\n",
       "      <th></th>\n",
       "      <th>Open</th>\n",
       "      <th>High</th>\n",
       "      <th>Low</th>\n",
       "      <th>Close</th>\n",
       "      <th>Adj Close</th>\n",
       "      <th>Volume</th>\n",
       "    </tr>\n",
       "  </thead>\n",
       "  <tbody>\n",
       "    <tr>\n",
       "      <th>0</th>\n",
       "      <td>0.023956</td>\n",
       "      <td>0.008443</td>\n",
       "      <td>0.011419</td>\n",
       "      <td>-0.007752</td>\n",
       "      <td>-0.007752</td>\n",
       "      <td>0.419071</td>\n",
       "    </tr>\n",
       "    <tr>\n",
       "      <th>1</th>\n",
       "      <td>-0.003166</td>\n",
       "      <td>-0.003149</td>\n",
       "      <td>-0.003920</td>\n",
       "      <td>-0.004453</td>\n",
       "      <td>-0.004453</td>\n",
       "      <td>-0.141426</td>\n",
       "    </tr>\n",
       "    <tr>\n",
       "      <th>2</th>\n",
       "      <td>-0.008521</td>\n",
       "      <td>0.000925</td>\n",
       "      <td>0.005273</td>\n",
       "      <td>0.008318</td>\n",
       "      <td>0.008318</td>\n",
       "      <td>-0.263835</td>\n",
       "    </tr>\n",
       "    <tr>\n",
       "      <th>3</th>\n",
       "      <td>0.003906</td>\n",
       "      <td>0.011393</td>\n",
       "      <td>0.005716</td>\n",
       "      <td>0.007316</td>\n",
       "      <td>0.007316</td>\n",
       "      <td>0.294036</td>\n",
       "    </tr>\n",
       "    <tr>\n",
       "      <th>4</th>\n",
       "      <td>0.008560</td>\n",
       "      <td>-0.008525</td>\n",
       "      <td>0.003192</td>\n",
       "      <td>0.004559</td>\n",
       "      <td>0.004559</td>\n",
       "      <td>-0.416248</td>\n",
       "    </tr>\n",
       "    <tr>\n",
       "      <th>...</th>\n",
       "      <td>...</td>\n",
       "      <td>...</td>\n",
       "      <td>...</td>\n",
       "      <td>...</td>\n",
       "      <td>...</td>\n",
       "      <td>...</td>\n",
       "    </tr>\n",
       "    <tr>\n",
       "      <th>540</th>\n",
       "      <td>0.011927</td>\n",
       "      <td>0.021719</td>\n",
       "      <td>0.013077</td>\n",
       "      <td>0.027970</td>\n",
       "      <td>0.027970</td>\n",
       "      <td>0.076728</td>\n",
       "    </tr>\n",
       "    <tr>\n",
       "      <th>541</th>\n",
       "      <td>0.014917</td>\n",
       "      <td>-0.000987</td>\n",
       "      <td>0.007376</td>\n",
       "      <td>-0.017421</td>\n",
       "      <td>-0.017421</td>\n",
       "      <td>-0.083904</td>\n",
       "    </tr>\n",
       "    <tr>\n",
       "      <th>542</th>\n",
       "      <td>-0.001089</td>\n",
       "      <td>0.007093</td>\n",
       "      <td>0.004119</td>\n",
       "      <td>0.024219</td>\n",
       "      <td>0.024219</td>\n",
       "      <td>0.132694</td>\n",
       "    </tr>\n",
       "    <tr>\n",
       "      <th>543</th>\n",
       "      <td>0.050045</td>\n",
       "      <td>0.038156</td>\n",
       "      <td>0.014037</td>\n",
       "      <td>0.006960</td>\n",
       "      <td>0.006960</td>\n",
       "      <td>0.346919</td>\n",
       "    </tr>\n",
       "    <tr>\n",
       "      <th>544</th>\n",
       "      <td>-0.016521</td>\n",
       "      <td>-0.020009</td>\n",
       "      <td>-0.009169</td>\n",
       "      <td>-0.012406</td>\n",
       "      <td>-0.012406</td>\n",
       "      <td>-0.130556</td>\n",
       "    </tr>\n",
       "  </tbody>\n",
       "</table>\n",
       "<p>545 rows × 6 columns</p>\n",
       "</div>"
      ],
      "text/plain": [
       "         Open      High       Low     Close  Adj Close    Volume\n",
       "0    0.023956  0.008443  0.011419 -0.007752  -0.007752  0.419071\n",
       "1   -0.003166 -0.003149 -0.003920 -0.004453  -0.004453 -0.141426\n",
       "2   -0.008521  0.000925  0.005273  0.008318   0.008318 -0.263835\n",
       "3    0.003906  0.011393  0.005716  0.007316   0.007316  0.294036\n",
       "4    0.008560 -0.008525  0.003192  0.004559   0.004559 -0.416248\n",
       "..        ...       ...       ...       ...        ...       ...\n",
       "540  0.011927  0.021719  0.013077  0.027970   0.027970  0.076728\n",
       "541  0.014917 -0.000987  0.007376 -0.017421  -0.017421 -0.083904\n",
       "542 -0.001089  0.007093  0.004119  0.024219   0.024219  0.132694\n",
       "543  0.050045  0.038156  0.014037  0.006960   0.006960  0.346919\n",
       "544 -0.016521 -0.020009 -0.009169 -0.012406  -0.012406 -0.130556\n",
       "\n",
       "[545 rows x 6 columns]"
      ]
     },
     "execution_count": 162,
     "metadata": {},
     "output_type": "execute_result"
    }
   ],
   "source": [
    "df_nike_d_temp = pd.DataFrame()\n",
    "for col in df_nike_d.drop(columns='Date').columns:\n",
    "    df_nike_d_temp[col] = pd.Series([df_nike_d[col].values[x]/df_nike_d[col].values[x-1] - 1 for x in df_nike_d.index[1:]]).dropna()\n",
    "df_nike_d_temp"
   ]
  },
  {
   "cell_type": "markdown",
   "metadata": {},
   "source": [
    "### c. Ln(P(t)/P(t-1))"
   ]
  },
  {
   "cell_type": "code",
   "execution_count": 134,
   "metadata": {
    "scrolled": false
   },
   "outputs": [
    {
     "data": {
      "text/html": [
       "<div>\n",
       "<style scoped>\n",
       "    .dataframe tbody tr th:only-of-type {\n",
       "        vertical-align: middle;\n",
       "    }\n",
       "\n",
       "    .dataframe tbody tr th {\n",
       "        vertical-align: top;\n",
       "    }\n",
       "\n",
       "    .dataframe thead th {\n",
       "        text-align: right;\n",
       "    }\n",
       "</style>\n",
       "<table border=\"1\" class=\"dataframe\">\n",
       "  <thead>\n",
       "    <tr style=\"text-align: right;\">\n",
       "      <th></th>\n",
       "      <th>Open</th>\n",
       "      <th>High</th>\n",
       "      <th>Low</th>\n",
       "      <th>Close</th>\n",
       "      <th>Adj Close</th>\n",
       "      <th>Volume</th>\n",
       "    </tr>\n",
       "  </thead>\n",
       "  <tbody>\n",
       "    <tr>\n",
       "      <th>0</th>\n",
       "      <td>0.017319</td>\n",
       "      <td>0.007361</td>\n",
       "      <td>0.007707</td>\n",
       "      <td>-0.003619</td>\n",
       "      <td>-0.003619</td>\n",
       "      <td>-0.048772</td>\n",
       "    </tr>\n",
       "    <tr>\n",
       "      <th>1</th>\n",
       "      <td>-0.002510</td>\n",
       "      <td>-0.004178</td>\n",
       "      <td>-0.016791</td>\n",
       "      <td>-0.016646</td>\n",
       "      <td>-0.016646</td>\n",
       "      <td>0.093509</td>\n",
       "    </tr>\n",
       "    <tr>\n",
       "      <th>2</th>\n",
       "      <td>-0.017238</td>\n",
       "      <td>-0.012406</td>\n",
       "      <td>0.001453</td>\n",
       "      <td>0.003271</td>\n",
       "      <td>0.003271</td>\n",
       "      <td>0.009340</td>\n",
       "    </tr>\n",
       "    <tr>\n",
       "      <th>3</th>\n",
       "      <td>-0.000125</td>\n",
       "      <td>-0.001643</td>\n",
       "      <td>0.000423</td>\n",
       "      <td>-0.002765</td>\n",
       "      <td>-0.002765</td>\n",
       "      <td>-0.012248</td>\n",
       "    </tr>\n",
       "    <tr>\n",
       "      <th>4</th>\n",
       "      <td>-0.000297</td>\n",
       "      <td>-0.005614</td>\n",
       "      <td>-0.009349</td>\n",
       "      <td>0.001855</td>\n",
       "      <td>0.001855</td>\n",
       "      <td>-0.009642</td>\n",
       "    </tr>\n",
       "    <tr>\n",
       "      <th>...</th>\n",
       "      <td>...</td>\n",
       "      <td>...</td>\n",
       "      <td>...</td>\n",
       "      <td>...</td>\n",
       "      <td>...</td>\n",
       "      <td>...</td>\n",
       "    </tr>\n",
       "    <tr>\n",
       "      <th>540</th>\n",
       "      <td>0.004312</td>\n",
       "      <td>0.007162</td>\n",
       "      <td>0.002641</td>\n",
       "      <td>0.011202</td>\n",
       "      <td>0.011202</td>\n",
       "      <td>-0.014390</td>\n",
       "    </tr>\n",
       "    <tr>\n",
       "      <th>541</th>\n",
       "      <td>0.002435</td>\n",
       "      <td>0.001756</td>\n",
       "      <td>0.005451</td>\n",
       "      <td>-0.007007</td>\n",
       "      <td>-0.007007</td>\n",
       "      <td>0.012911</td>\n",
       "    </tr>\n",
       "    <tr>\n",
       "      <th>542</th>\n",
       "      <td>-0.002058</td>\n",
       "      <td>0.000536</td>\n",
       "      <td>-0.001314</td>\n",
       "      <td>0.012563</td>\n",
       "      <td>0.012563</td>\n",
       "      <td>0.107560</td>\n",
       "    </tr>\n",
       "    <tr>\n",
       "      <th>543</th>\n",
       "      <td>0.046764</td>\n",
       "      <td>0.037596</td>\n",
       "      <td>0.015870</td>\n",
       "      <td>0.010095</td>\n",
       "      <td>0.010095</td>\n",
       "      <td>0.237843</td>\n",
       "    </tr>\n",
       "    <tr>\n",
       "      <th>544</th>\n",
       "      <td>-0.025867</td>\n",
       "      <td>-0.019155</td>\n",
       "      <td>-0.008576</td>\n",
       "      <td>-0.007662</td>\n",
       "      <td>-0.007662</td>\n",
       "      <td>-0.110643</td>\n",
       "    </tr>\n",
       "  </tbody>\n",
       "</table>\n",
       "<p>545 rows × 6 columns</p>\n",
       "</div>"
      ],
      "text/plain": [
       "         Open      High       Low     Close  Adj Close    Volume\n",
       "0    0.017319  0.007361  0.007707 -0.003619  -0.003619 -0.048772\n",
       "1   -0.002510 -0.004178 -0.016791 -0.016646  -0.016646  0.093509\n",
       "2   -0.017238 -0.012406  0.001453  0.003271   0.003271  0.009340\n",
       "3   -0.000125 -0.001643  0.000423 -0.002765  -0.002765 -0.012248\n",
       "4   -0.000297 -0.005614 -0.009349  0.001855   0.001855 -0.009642\n",
       "..        ...       ...       ...       ...        ...       ...\n",
       "540  0.004312  0.007162  0.002641  0.011202   0.011202 -0.014390\n",
       "541  0.002435  0.001756  0.005451 -0.007007  -0.007007  0.012911\n",
       "542 -0.002058  0.000536 -0.001314  0.012563   0.012563  0.107560\n",
       "543  0.046764  0.037596  0.015870  0.010095   0.010095  0.237843\n",
       "544 -0.025867 -0.019155 -0.008576 -0.007662  -0.007662 -0.110643\n",
       "\n",
       "[545 rows x 6 columns]"
      ]
     },
     "execution_count": 134,
     "metadata": {},
     "output_type": "execute_result"
    }
   ],
   "source": [
    "df_nasdaq_d_temp_ln = pd.DataFrame()\n",
    "for col in df_nasdaq_d.drop(columns='Date').columns:\n",
    "    df_nasdaq_d_temp_ln[col] = pd.Series([log(df_nasdaq_d[col].values[x]/df_nasdaq_d[col].values[x-1]) for x in df_nasdaq_d.index[1:]]).dropna()\n",
    "df_nasdaq_d_temp_ln"
   ]
  },
  {
   "cell_type": "code",
   "execution_count": 135,
   "metadata": {
    "scrolled": false
   },
   "outputs": [
    {
     "data": {
      "text/html": [
       "<div>\n",
       "<style scoped>\n",
       "    .dataframe tbody tr th:only-of-type {\n",
       "        vertical-align: middle;\n",
       "    }\n",
       "\n",
       "    .dataframe tbody tr th {\n",
       "        vertical-align: top;\n",
       "    }\n",
       "\n",
       "    .dataframe thead th {\n",
       "        text-align: right;\n",
       "    }\n",
       "</style>\n",
       "<table border=\"1\" class=\"dataframe\">\n",
       "  <thead>\n",
       "    <tr style=\"text-align: right;\">\n",
       "      <th></th>\n",
       "      <th>Open</th>\n",
       "      <th>High</th>\n",
       "      <th>Low</th>\n",
       "      <th>Close*</th>\n",
       "      <th>Adj Close**</th>\n",
       "      <th>Volume</th>\n",
       "    </tr>\n",
       "  </thead>\n",
       "  <tbody>\n",
       "    <tr>\n",
       "      <th>0</th>\n",
       "      <td>-0.008560</td>\n",
       "      <td>-0.009217</td>\n",
       "      <td>0.016939</td>\n",
       "      <td>-0.005343</td>\n",
       "      <td>-0.005343</td>\n",
       "      <td>-0.507816</td>\n",
       "    </tr>\n",
       "    <tr>\n",
       "      <th>1</th>\n",
       "      <td>-0.006995</td>\n",
       "      <td>0.000463</td>\n",
       "      <td>0.002363</td>\n",
       "      <td>-0.007247</td>\n",
       "      <td>-0.007247</td>\n",
       "      <td>0.083580</td>\n",
       "    </tr>\n",
       "    <tr>\n",
       "      <th>2</th>\n",
       "      <td>-0.007280</td>\n",
       "      <td>0.002080</td>\n",
       "      <td>-0.004257</td>\n",
       "      <td>0.012591</td>\n",
       "      <td>0.012591</td>\n",
       "      <td>0.187354</td>\n",
       "    </tr>\n",
       "    <tr>\n",
       "      <th>3</th>\n",
       "      <td>0.009150</td>\n",
       "      <td>-0.006254</td>\n",
       "      <td>-0.017454</td>\n",
       "      <td>-0.033694</td>\n",
       "      <td>-0.033694</td>\n",
       "      <td>0.000126</td>\n",
       "    </tr>\n",
       "    <tr>\n",
       "      <th>4</th>\n",
       "      <td>-0.026025</td>\n",
       "      <td>-0.005825</td>\n",
       "      <td>0.000241</td>\n",
       "      <td>0.017342</td>\n",
       "      <td>0.017342</td>\n",
       "      <td>-2.337629</td>\n",
       "    </tr>\n",
       "    <tr>\n",
       "      <th>...</th>\n",
       "      <td>...</td>\n",
       "      <td>...</td>\n",
       "      <td>...</td>\n",
       "      <td>...</td>\n",
       "      <td>...</td>\n",
       "      <td>...</td>\n",
       "    </tr>\n",
       "    <tr>\n",
       "      <th>540</th>\n",
       "      <td>0.015069</td>\n",
       "      <td>-0.002095</td>\n",
       "      <td>0.015933</td>\n",
       "      <td>0.028495</td>\n",
       "      <td>0.028495</td>\n",
       "      <td>-1.636648</td>\n",
       "    </tr>\n",
       "    <tr>\n",
       "      <th>541</th>\n",
       "      <td>0.035496</td>\n",
       "      <td>0.040980</td>\n",
       "      <td>0.032284</td>\n",
       "      <td>0.016831</td>\n",
       "      <td>0.016831</td>\n",
       "      <td>2.277516</td>\n",
       "    </tr>\n",
       "    <tr>\n",
       "      <th>542</th>\n",
       "      <td>0.006101</td>\n",
       "      <td>-0.017147</td>\n",
       "      <td>-0.012366</td>\n",
       "      <td>-0.015193</td>\n",
       "      <td>-0.015193</td>\n",
       "      <td>0.018807</td>\n",
       "    </tr>\n",
       "    <tr>\n",
       "      <th>543</th>\n",
       "      <td>-0.018651</td>\n",
       "      <td>0.006125</td>\n",
       "      <td>-0.031601</td>\n",
       "      <td>-0.034357</td>\n",
       "      <td>-0.034357</td>\n",
       "      <td>0.060799</td>\n",
       "    </tr>\n",
       "    <tr>\n",
       "      <th>544</th>\n",
       "      <td>-0.028826</td>\n",
       "      <td>-0.055331</td>\n",
       "      <td>-0.047513</td>\n",
       "      <td>-0.041109</td>\n",
       "      <td>-0.041109</td>\n",
       "      <td>-2.239105</td>\n",
       "    </tr>\n",
       "  </tbody>\n",
       "</table>\n",
       "<p>533 rows × 6 columns</p>\n",
       "</div>"
      ],
      "text/plain": [
       "         Open      High       Low    Close*  Adj Close**    Volume\n",
       "0   -0.008560 -0.009217  0.016939 -0.005343    -0.005343 -0.507816\n",
       "1   -0.006995  0.000463  0.002363 -0.007247    -0.007247  0.083580\n",
       "2   -0.007280  0.002080 -0.004257  0.012591     0.012591  0.187354\n",
       "3    0.009150 -0.006254 -0.017454 -0.033694    -0.033694  0.000126\n",
       "4   -0.026025 -0.005825  0.000241  0.017342     0.017342 -2.337629\n",
       "..        ...       ...       ...       ...          ...       ...\n",
       "540  0.015069 -0.002095  0.015933  0.028495     0.028495 -1.636648\n",
       "541  0.035496  0.040980  0.032284  0.016831     0.016831  2.277516\n",
       "542  0.006101 -0.017147 -0.012366 -0.015193    -0.015193  0.018807\n",
       "543 -0.018651  0.006125 -0.031601 -0.034357    -0.034357  0.060799\n",
       "544 -0.028826 -0.055331 -0.047513 -0.041109    -0.041109 -2.239105\n",
       "\n",
       "[533 rows x 6 columns]"
      ]
     },
     "execution_count": 135,
     "metadata": {},
     "output_type": "execute_result"
    }
   ],
   "source": [
    "df_brent_d_temp_ln = pd.DataFrame()\n",
    "for col in df_brent_d.drop(columns='Date').columns:\n",
    "    df_brent_d_temp_ln[col] = pd.Series([log(df_brent_d[col].values[x]/df_brent_d[col].values[x-1])for x in df_brent_d.index[1:]]).dropna()\n",
    "df_brent_d_temp_ln"
   ]
  },
  {
   "cell_type": "code",
   "execution_count": 136,
   "metadata": {},
   "outputs": [
    {
     "data": {
      "text/html": [
       "<div>\n",
       "<style scoped>\n",
       "    .dataframe tbody tr th:only-of-type {\n",
       "        vertical-align: middle;\n",
       "    }\n",
       "\n",
       "    .dataframe tbody tr th {\n",
       "        vertical-align: top;\n",
       "    }\n",
       "\n",
       "    .dataframe thead th {\n",
       "        text-align: right;\n",
       "    }\n",
       "</style>\n",
       "<table border=\"1\" class=\"dataframe\">\n",
       "  <thead>\n",
       "    <tr style=\"text-align: right;\">\n",
       "      <th></th>\n",
       "      <th>Open</th>\n",
       "      <th>High</th>\n",
       "      <th>Low</th>\n",
       "      <th>Close</th>\n",
       "      <th>Adj Close</th>\n",
       "      <th>Volume</th>\n",
       "    </tr>\n",
       "  </thead>\n",
       "  <tbody>\n",
       "    <tr>\n",
       "      <th>0</th>\n",
       "      <td>0.023674</td>\n",
       "      <td>0.008408</td>\n",
       "      <td>0.011354</td>\n",
       "      <td>-0.007782</td>\n",
       "      <td>-0.007782</td>\n",
       "      <td>0.350002</td>\n",
       "    </tr>\n",
       "    <tr>\n",
       "      <th>1</th>\n",
       "      <td>-0.003171</td>\n",
       "      <td>-0.003154</td>\n",
       "      <td>-0.003928</td>\n",
       "      <td>-0.004463</td>\n",
       "      <td>-0.004463</td>\n",
       "      <td>-0.152483</td>\n",
       "    </tr>\n",
       "    <tr>\n",
       "      <th>2</th>\n",
       "      <td>-0.008557</td>\n",
       "      <td>0.000924</td>\n",
       "      <td>0.005260</td>\n",
       "      <td>0.008284</td>\n",
       "      <td>0.008284</td>\n",
       "      <td>-0.306301</td>\n",
       "    </tr>\n",
       "    <tr>\n",
       "      <th>3</th>\n",
       "      <td>0.003899</td>\n",
       "      <td>0.011329</td>\n",
       "      <td>0.005699</td>\n",
       "      <td>0.007289</td>\n",
       "      <td>0.007289</td>\n",
       "      <td>0.257766</td>\n",
       "    </tr>\n",
       "    <tr>\n",
       "      <th>4</th>\n",
       "      <td>0.008524</td>\n",
       "      <td>-0.008562</td>\n",
       "      <td>0.003187</td>\n",
       "      <td>0.004548</td>\n",
       "      <td>0.004548</td>\n",
       "      <td>-0.538279</td>\n",
       "    </tr>\n",
       "    <tr>\n",
       "      <th>...</th>\n",
       "      <td>...</td>\n",
       "      <td>...</td>\n",
       "      <td>...</td>\n",
       "      <td>...</td>\n",
       "      <td>...</td>\n",
       "      <td>...</td>\n",
       "    </tr>\n",
       "    <tr>\n",
       "      <th>540</th>\n",
       "      <td>0.011856</td>\n",
       "      <td>0.021487</td>\n",
       "      <td>0.012992</td>\n",
       "      <td>0.027586</td>\n",
       "      <td>0.027586</td>\n",
       "      <td>0.073927</td>\n",
       "    </tr>\n",
       "    <tr>\n",
       "      <th>541</th>\n",
       "      <td>0.014807</td>\n",
       "      <td>-0.000987</td>\n",
       "      <td>0.007349</td>\n",
       "      <td>-0.017575</td>\n",
       "      <td>-0.017575</td>\n",
       "      <td>-0.087634</td>\n",
       "    </tr>\n",
       "    <tr>\n",
       "      <th>542</th>\n",
       "      <td>-0.001089</td>\n",
       "      <td>0.007068</td>\n",
       "      <td>0.004110</td>\n",
       "      <td>0.023930</td>\n",
       "      <td>0.023930</td>\n",
       "      <td>0.124599</td>\n",
       "    </tr>\n",
       "    <tr>\n",
       "      <th>543</th>\n",
       "      <td>0.048833</td>\n",
       "      <td>0.037446</td>\n",
       "      <td>0.013939</td>\n",
       "      <td>0.006936</td>\n",
       "      <td>0.006936</td>\n",
       "      <td>0.297820</td>\n",
       "    </tr>\n",
       "    <tr>\n",
       "      <th>544</th>\n",
       "      <td>-0.016659</td>\n",
       "      <td>-0.020211</td>\n",
       "      <td>-0.009211</td>\n",
       "      <td>-0.012483</td>\n",
       "      <td>-0.012483</td>\n",
       "      <td>-0.139901</td>\n",
       "    </tr>\n",
       "  </tbody>\n",
       "</table>\n",
       "<p>545 rows × 6 columns</p>\n",
       "</div>"
      ],
      "text/plain": [
       "         Open      High       Low     Close  Adj Close    Volume\n",
       "0    0.023674  0.008408  0.011354 -0.007782  -0.007782  0.350002\n",
       "1   -0.003171 -0.003154 -0.003928 -0.004463  -0.004463 -0.152483\n",
       "2   -0.008557  0.000924  0.005260  0.008284   0.008284 -0.306301\n",
       "3    0.003899  0.011329  0.005699  0.007289   0.007289  0.257766\n",
       "4    0.008524 -0.008562  0.003187  0.004548   0.004548 -0.538279\n",
       "..        ...       ...       ...       ...        ...       ...\n",
       "540  0.011856  0.021487  0.012992  0.027586   0.027586  0.073927\n",
       "541  0.014807 -0.000987  0.007349 -0.017575  -0.017575 -0.087634\n",
       "542 -0.001089  0.007068  0.004110  0.023930   0.023930  0.124599\n",
       "543  0.048833  0.037446  0.013939  0.006936   0.006936  0.297820\n",
       "544 -0.016659 -0.020211 -0.009211 -0.012483  -0.012483 -0.139901\n",
       "\n",
       "[545 rows x 6 columns]"
      ]
     },
     "execution_count": 136,
     "metadata": {},
     "output_type": "execute_result"
    }
   ],
   "source": [
    "df_nike_d_temp_ln = pd.DataFrame()\n",
    "for col in df_nike_d.drop(columns='Date').columns:\n",
    "    df_nike_d_temp_ln[col] = pd.Series([log(df_nike_d[col].values[x]/df_nike_d[col].values[x-1]) for x in df_nike_d.index[1:]]).dropna()\n",
    "df_nike_d_temp_ln"
   ]
  },
  {
   "cell_type": "markdown",
   "metadata": {},
   "source": [
    "## 3) графики по NASDAQ"
   ]
  },
  {
   "cell_type": "markdown",
   "metadata": {},
   "source": [
    "### a. Гистограммы с дневной доходностью"
   ]
  },
  {
   "cell_type": "code",
   "execution_count": 151,
   "metadata": {},
   "outputs": [
    {
     "data": {
      "image/png": "[encoded data removed]",
      "text/plain": [
       "<Figure size 1200x400 with 3 Axes>"
      ]
     },
     "metadata": {
      "needs_background": "light"
     },
     "output_type": "display_data"
    }
   ],
   "source": [
    "fig, (ax1,ax2,ax3) = plt.subplots(nrows=1, ncols=3, figsize=(12, 4), dpi=100)\n",
    "sns.histplot(x=df_nasdaq_d_temp.Open.astype('float'), ax=ax2)\n",
    "sns.histplot(data=df_nasdaq_d.drop(columns='Date').pct_change(), x=\"Open\", ax=ax1)\n",
    "sns.histplot(x=df_nasdaq_d_temp_ln.Open.astype('float'), ax=ax3)\n",
    "fig.suptitle('Comparison of daily yield calculation methods on NASDAQ[Open]', fontsize=14)\n",
    "ax1.set_title('pct_change')\n",
    "ax2.set_title('P(t)/P(t-1) – 1')\n",
    "ax3.set_title('Ln(P(t)/P(t-1))')\n",
    "fig.tight_layout(pad=0.5)"
   ]
  },
  {
   "cell_type": "markdown",
   "metadata": {},
   "source": [
    "### b. Q-Q plot"
   ]
  },
  {
   "cell_type": "code",
   "execution_count": 152,
   "metadata": {
    "scrolled": true
   },
   "outputs": [
    {
     "data": {
      "image/png": "[encoded data removed]",
      "text/plain": [
       "<Figure size 432x288 with 1 Axes>"
      ]
     },
     "metadata": {
      "needs_background": "light"
     },
     "output_type": "display_data"
    }
   ],
   "source": [
    "import statsmodels.api as sm\n",
    "mean_temp = df_nasdaq_d_temp.Open.astype('float').mean()\n",
    "scale_temp = np.nanstd(df_nasdaq_d_temp.Open.astype('float').values)\n",
    "fig = sm.qqplot(df_nasdaq_d_temp.Open.astype('float'), line='45', loc=mean_temp, scale=scale_temp)\n",
    "plt.show()"
   ]
  },
  {
   "cell_type": "markdown",
   "metadata": {},
   "source": [
    "## 4) scatterplots"
   ]
  },
  {
   "cell_type": "code",
   "execution_count": 139,
   "metadata": {
    "scrolled": false
   },
   "outputs": [
    {
     "data": {
      "image/png": "[encoded data removed]",
      "text/plain": [
       "<Figure size 1000x600 with 4 Axes>"
      ]
     },
     "metadata": {
      "needs_background": "light"
     },
     "output_type": "display_data"
    }
   ],
   "source": [
    "fig, ((ax1,ax2),(ax3, ax4)) = plt.subplots(nrows=2, ncols=2, figsize=(10, 6), dpi=100)\n",
    "sns.scatterplot(data=df_nasdaq_d.drop(columns='Date').pct_change(), x=df_nasdaq_d.index, y=\"Open\", ax=ax1)\n",
    "sns.scatterplot(x=df_nasdaq_d_temp.index, y=df_nasdaq_d_temp.Open.astype('float'), ax=ax2)\n",
    "sns.scatterplot(x=df_nasdaq_d_temp_ln.index, y=df_nasdaq_d_temp_ln.Open.astype('float'), ax=ax3)\n",
    "fig.suptitle('Comparison of daily yield calculation methods on NASDAQ[Open]', fontsize=14)\n",
    "ax1.set_title('pct_change')\n",
    "ax2.set_title('P(t)/P(t-1) – 1')\n",
    "ax3.set_title('Ln(P(t)/P(t-1))')\n",
    "fig.tight_layout(pad=0.9)"
   ]
  },
  {
   "cell_type": "code",
   "execution_count": 140,
   "metadata": {},
   "outputs": [
    {
     "data": {
      "image/png": "[encoded data removed]",
      "text/plain": [
       "<Figure size 1000x600 with 4 Axes>"
      ]
     },
     "metadata": {
      "needs_background": "light"
     },
     "output_type": "display_data"
    }
   ],
   "source": [
    "fig, ((ax1,ax2),(ax3, ax4)) = plt.subplots(nrows=2, ncols=2, figsize=(10, 6), dpi=100)\n",
    "sns.scatterplot(data=df_brent_d.drop(columns='Date').pct_change(), x=df_brent_d.index, y=\"Open\", ax=ax1)\n",
    "sns.scatterplot(x=df_brent_d_temp.index, y=df_brent_d_temp.Open.astype('float'), ax=ax2)\n",
    "sns.scatterplot(x=df_brent_d_temp_ln.index, y=df_brent_d_temp_ln.Open.astype('float'), ax=ax3)\n",
    "fig.suptitle('Comparison of daily yield calculation methods on BRENT Futures[Open]', fontsize=14)\n",
    "ax1.set_title('pct_change')\n",
    "ax2.set_title('P(t)/P(t-1) – 1')\n",
    "ax3.set_title('Ln(P(t)/P(t-1))')\n",
    "fig.tight_layout(pad=0.9)"
   ]
  },
  {
   "cell_type": "markdown",
   "metadata": {},
   "source": [
    "## 5) Интерпретация"
   ]
  },
  {
   "cell_type": "markdown",
   "metadata": {},
   "source": [
    "**Гистограммы:** <br>\n",
    "Как мы можем видеть из гистограмм, среднее значение дневной доходности слегка меньше нуля - это означает, что общий тренд за время наблюдения был отрицательным, хотя и незначительно<br>\n",
    "\"хвосты\" распределения немного толще, чем стоило бы ожидать от нормального распределения (kurtosis > 0). Это означает, что в данных присутствуют свидетельства неожиданных скачков/падений NASDAQ чаще, чем ожидалось бы при нормальном распределении дневных доходностей<br>\n",
    "\n",
    "**Q-Q plot:** <br>\n",
    "данный график позволяет увидеть, что в целом распределение дневных доходностей близко к нормальному при надлежащем среднем значении и стандартном отклонении<br>\n",
    "Однако, стоит заметить что данный график подпадает под категорию \"heavy-tailed\" - \"хвосты\" графика имеют больший уклон чем остальной график и график нормального распределения, что еще раз указывает на то, что значений в \"экстремумах\" распределения больше, чем в аналогичном нормальном распределении<br>\n",
    "\n",
    "**Вывод:** Дневная доходность NASDAQ распределена нормально, но присутствуют неожиданные скачки, а так едва ли значительный ,но все же тренд на снижение стоимости за период наблюдения"
   ]
  },
  {
   "cell_type": "markdown",
   "metadata": {},
   "source": [
    "## 6) Нормальность данных"
   ]
  },
  {
   "cell_type": "markdown",
   "metadata": {},
   "source": [
    "### a. Chi-square test"
   ]
  },
  {
   "cell_type": "code",
   "execution_count": 178,
   "metadata": {},
   "outputs": [
    {
     "data": {
      "text/plain": [
       "(0.0, 0.0, 0.0)"
      ]
     },
     "execution_count": 178,
     "metadata": {},
     "output_type": "execute_result"
    }
   ],
   "source": [
    "from scipy.stats import chisquare #If the p-value ≤ 0.05, then we reject the null hypothesis i.e. we assume the distribution of our variable is not normal/gaussian.\n",
    "statistic1, pvalue1 = chisquare(df_nasdaq_d.dropna().Open) \n",
    "statistic2, pvalue2 = chisquare(df_nasdaq_w.dropna().Open)\n",
    "statistic3, pvalue3 = chisquare(df_nasdaq_m.dropna().Open)\n",
    "pvalue1, pvalue2, pvalue3"
   ]
  },
  {
   "cell_type": "code",
   "execution_count": 181,
   "metadata": {},
   "outputs": [
    {
     "data": {
      "text/plain": [
       "(1.7076381842482112e-296, 4.564033787467767e-70, 1.7380538246845054e-11)"
      ]
     },
     "execution_count": 181,
     "metadata": {},
     "output_type": "execute_result"
    }
   ],
   "source": [
    "statistic1, pvalue1 = chisquare(df_brent_d.dropna().Open) \n",
    "statistic2, pvalue2 = chisquare(df_brent_w.dropna().Open)\n",
    "statistic3, pvalue3 = chisquare(df_brent_m.dropna().Open)\n",
    "pvalue1, pvalue2, pvalue3"
   ]
  },
  {
   "cell_type": "code",
   "execution_count": 182,
   "metadata": {},
   "outputs": [
    {
     "data": {
      "text/plain": [
       "(6.551419968063934e-177, 1.9901868959021762e-38, 1.2649905189519928e-11)"
      ]
     },
     "execution_count": 182,
     "metadata": {},
     "output_type": "execute_result"
    }
   ],
   "source": [
    "statistic1, pvalue1 = chisquare(df_nike_d.dropna().Open) \n",
    "statistic2, pvalue2 = chisquare(df_nike_w.dropna().Open)\n",
    "statistic3, pvalue3 = chisquare(df_nike_m.dropna().Open)\n",
    "pvalue1, pvalue2, pvalue3"
   ]
  },
  {
   "cell_type": "markdown",
   "metadata": {},
   "source": [
    "### b. Kolmogorov-Smirnov test"
   ]
  },
  {
   "cell_type": "code",
   "execution_count": 179,
   "metadata": {},
   "outputs": [
    {
     "data": {
      "text/plain": [
       "(0.0, 0.0, 0.0)"
      ]
     },
     "execution_count": 179,
     "metadata": {},
     "output_type": "execute_result"
    }
   ],
   "source": [
    "from scipy.stats import kstest\n",
    "statistic1, pvalue1 = kstest(df_nasdaq_d.dropna().Open, 'norm')\n",
    "statistic2, pvalue2 = kstest(df_nasdaq_w.dropna().Open, 'norm')\n",
    "statistic3, pvalue3 = kstest(df_nasdaq_m.dropna().Open, 'norm')\n",
    "pvalue1, pvalue2, pvalue3"
   ]
  },
  {
   "cell_type": "code",
   "execution_count": 183,
   "metadata": {},
   "outputs": [
    {
     "data": {
      "text/plain": [
       "(0.0, 0.0, 0.0)"
      ]
     },
     "execution_count": 183,
     "metadata": {},
     "output_type": "execute_result"
    }
   ],
   "source": [
    "statistic1, pvalue1 = kstest(df_brent_d.dropna().Open, 'norm')\n",
    "statistic2, pvalue2 = kstest(df_brent_w.dropna().Open, 'norm')\n",
    "statistic3, pvalue3 = kstest(df_brent_m.dropna().Open, 'norm')\n",
    "pvalue1, pvalue2, pvalue3"
   ]
  },
  {
   "cell_type": "code",
   "execution_count": 184,
   "metadata": {},
   "outputs": [
    {
     "data": {
      "text/plain": [
       "(0.0, 0.0, 0.0)"
      ]
     },
     "execution_count": 184,
     "metadata": {},
     "output_type": "execute_result"
    }
   ],
   "source": [
    "statistic1, pvalue1 = kstest(df_nike_d.dropna().Open, 'norm')\n",
    "statistic2, pvalue2 = kstest(df_nike_w.dropna().Open, 'norm')\n",
    "statistic3, pvalue3 = kstest(df_nike_m.dropna().Open, 'norm')\n",
    "pvalue1, pvalue2, pvalue3"
   ]
  },
  {
   "cell_type": "markdown",
   "metadata": {},
   "source": [
    "### c. Jarque-Bera test"
   ]
  },
  {
   "cell_type": "code",
   "execution_count": 180,
   "metadata": {},
   "outputs": [
    {
     "data": {
      "text/plain": [
       "(1.4244731427748292e-06, 0.07749121583006902, 0.5024986440421676)"
      ]
     },
     "execution_count": 180,
     "metadata": {},
     "output_type": "execute_result"
    }
   ],
   "source": [
    "from scipy.stats import jarque_bera\n",
    "statistic1, pvalue1 = jarque_bera(df_nasdaq_d.dropna().Open)\n",
    "statistic2, pvalue2 = jarque_bera(df_nasdaq_w.dropna().Open)\n",
    "statistic3, pvalue3 = jarque_bera(df_nasdaq_m.dropna().Open)\n",
    "pvalue1, pvalue2, pvalue3"
   ]
  },
  {
   "cell_type": "code",
   "execution_count": 186,
   "metadata": {},
   "outputs": [
    {
     "data": {
      "text/plain": [
       "(0.006336993162480042, 0.31486237948664, 0.6931860608963081)"
      ]
     },
     "execution_count": 186,
     "metadata": {},
     "output_type": "execute_result"
    }
   ],
   "source": [
    "statistic1, pvalue1 = jarque_bera(df_brent_d.dropna().Open)\n",
    "statistic2, pvalue2 = jarque_bera(df_brent_w.dropna().Open)\n",
    "statistic3, pvalue3 = jarque_bera(df_brent_m.dropna().Open)\n",
    "pvalue1, pvalue2, pvalue3"
   ]
  },
  {
   "cell_type": "code",
   "execution_count": 185,
   "metadata": {},
   "outputs": [
    {
     "data": {
      "text/plain": [
       "(0.0008596405971005305, 0.31295765626671557, 0.7532134346360047)"
      ]
     },
     "execution_count": 185,
     "metadata": {},
     "output_type": "execute_result"
    }
   ],
   "source": [
    "statistic1, pvalue1 = jarque_bera(df_nike_d.dropna().Open)\n",
    "statistic2, pvalue2 = jarque_bera(df_nike_w.dropna().Open)\n",
    "statistic3, pvalue3 = jarque_bera(df_nike_m.dropna().Open)\n",
    "pvalue1, pvalue2, pvalue3"
   ]
  },
  {
   "cell_type": "markdown",
   "metadata": {},
   "source": [
    "## 7) Интерпретация"
   ]
  },
  {
   "cell_type": "markdown",
   "metadata": {},
   "source": [
    "H0 - распределение нормальное<br>\n",
    "H1 - распределение не нормальное<br>\n",
    "\n",
    "Как мы видим, p-value на всех данных тестов Хи-квадрат и Колмогорова-Смирнова меньше 0.05, а значит мы отвергаем H0, предполагая H1<br>\n",
    "Интересная ситуация происходит на Jarque-bera тесте - для дневных данных мы видим схожую с другими тестами ситуацию, однако, для недельных и месячных, p-value сильно превышает 0.05. это можно связать с тем, что этот тест эффективен только на больших объёмах данных"
   ]
  },
  {
   "cell_type": "markdown",
   "metadata": {},
   "source": [
    "## 8) Ковариация"
   ]
  },
  {
   "cell_type": "code",
   "execution_count": 190,
   "metadata": {},
   "outputs": [
    {
     "data": {
      "text/plain": [
       "1.9785430200868524e-05"
      ]
     },
     "execution_count": 190,
     "metadata": {},
     "output_type": "execute_result"
    }
   ],
   "source": [
    "array1 = np.array(df_nasdaq_d.drop(columns='Date').pct_change().dropna().Open.values)\n",
    "array2 = np.array(df_brent_d.drop(columns='Date').pct_change().dropna().Open.values)\n",
    "np.cov(array1, array2)[0][1]"
   ]
  },
  {
   "cell_type": "markdown",
   "metadata": {},
   "source": [
    "## 11) Построить доверительный интервал для средней дневной доходности FTSE 100 (T-distribution)"
   ]
  },
  {
   "cell_type": "code",
   "execution_count": 219,
   "metadata": {},
   "outputs": [
    {
     "data": {
      "text/plain": [
       "(-0.0012713851156957278, 0.0014287888060979844)"
      ]
     },
     "execution_count": 219,
     "metadata": {},
     "output_type": "execute_result"
    }
   ],
   "source": [
    "import scipy.stats as st\n",
    "data = df_nasdaq_d.drop(columns='Date').pct_change().dropna().Open.values\n",
    "st.t.interval(alpha=0.95, df=len(data)-1, loc=np.mean(data), scale=st.sem(data))"
   ]
  },
  {
   "cell_type": "markdown",
   "metadata": {},
   "source": [
    "## 12) Построить доверительный интервал для разности средних доходностей FTSE 100 и Brent"
   ]
  },
  {
   "cell_type": "code",
   "execution_count": 221,
   "metadata": {},
   "outputs": [
    {
     "data": {
      "text/plain": [
       "(-0.0038575997359015413, 0.0010094857391710157)"
      ]
     },
     "execution_count": 221,
     "metadata": {},
     "output_type": "execute_result"
    }
   ],
   "source": [
    "data1 = df_nasdaq_d.drop(columns='Date').pct_change().dropna().Open.values\n",
    "data2 = df_brent_d.drop(columns='Date').pct_change().dropna().Open.values\n",
    "data = [data1[x]-data2[x] for x in range(min(len(data1), len(data2)))]\n",
    "st.t.interval(alpha=0.95, df=len(data)-1, loc=np.mean(data), scale=st.sem(data))"
   ]
  },
  {
   "cell_type": "markdown",
   "metadata": {},
   "source": [
    "## 13) Построить доверительный интервал для стандартного отклонения доходности FTSE 100 (Chi-Square Dist)"
   ]
  },
  {
   "cell_type": "code",
   "execution_count": null,
   "metadata": {},
   "outputs": [],
   "source": []
  }
 ],
 "metadata": {
  "kernelspec": {
   "display_name": "Python 3",
   "language": "python",
   "name": "python3"
  },
  "language_info": {
   "codemirror_mode": {
    "name": "ipython",
    "version": 3
   },
   "file_extension": ".py",
   "mimetype": "text/x-python",
   "name": "python",
   "nbconvert_exporter": "python",
   "pygments_lexer": "ipython3",
   "version": "3.8.5"
  }
 },
 "nbformat": 4,
 "nbformat_minor": 4
}
